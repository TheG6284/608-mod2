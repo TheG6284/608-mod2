{
 "cells": [
  {
   "cell_type": "markdown",
   "id": "3edd2691-7d62-42ba-94e3-36506325883d",
   "metadata": {
    "tags": []
   },
   "source": [
    "3.1"
   ]
  },
  {
   "cell_type": "markdown",
   "id": "307dc718-fc77-44bd-8993-0b555358d2e5",
   "metadata": {},
   "source": [
    "3.2\n",
    "\n",
    "1. algorithm, actions, order"
   ]
  },
  {
   "cell_type": "code",
   "execution_count": 1,
   "id": "14e48d47-66b6-4aa1-bb87-eb2cc859d2bd",
   "metadata": {
    "jupyter": {
     "source_hidden": true
    },
    "tags": []
   },
   "outputs": [
    {
     "name": "stdin",
     "output_type": "stream",
     "text": [
      "Enter first integer:  2\n",
      "Enter second integer:  3\n"
     ]
    },
    {
     "name": "stdout",
     "output_type": "stream",
     "text": [
      "The sum of 2 and 3 is 5\n"
     ]
    }
   ],
   "source": [
    "#3.3\n",
    "\n",
    "#1. False\n",
    "\n",
    "number1 = int(input('Enter first integer: '))\n",
    "number2 = int(input('Enter second integer: '))\n",
    "\n",
    "total = number1 + number2\n",
    "\n",
    "print('The sum of', number1, 'and', number2, 'is', total)"
   ]
  },
  {
   "cell_type": "markdown",
   "id": "31cd7f4f-d7e3-4842-b10d-d130a9a12c25",
   "metadata": {},
   "source": [
    "3.4\n",
    "\n",
    "1. sequential, selection, repetition\n",
    "2. flowchart"
   ]
  },
  {
   "cell_type": "code",
   "execution_count": 2,
   "id": "5b3ebb62-cccc-4c84-9cfb-ba888ada85a1",
   "metadata": {},
   "outputs": [
    {
     "name": "stdin",
     "output_type": "stream",
     "text": [
      "Enter grade:  79\n"
     ]
    },
    {
     "name": "stdout",
     "output_type": "stream",
     "text": [
      "Passed\n"
     ]
    }
   ],
   "source": [
    "#3.5\n",
    "\n",
    "#1. False\n",
    "\n",
    "grade = int(input('Enter grade: '))\n",
    "if grade > 60:\n",
    "    print('Passed')\n"
   ]
  },
  {
   "cell_type": "code",
   "execution_count": 3,
   "id": "70dd38bc-e72a-4350-9d45-67d01ae1c858",
   "metadata": {},
   "outputs": [
    {
     "name": "stdout",
     "output_type": "stream",
     "text": [
      "6\n",
      "475\n",
      "79.16666666666667\n"
     ]
    }
   ],
   "source": [
    "# 6. Calculate Measures of Central Tendency - Native Python\n",
    "\n",
    "values = [47, 95, 88, 73, 88, 84]\n",
    "\n",
    "count = len(values)\n",
    "print(count)\n",
    "\n",
    "total = sum(values)\n",
    "print(total)\n",
    "\n",
    "avrge = total/count\n",
    "print(avrge)"
   ]
  },
  {
   "cell_type": "code",
   "execution_count": 4,
   "id": "08509c60-a78c-4234-9c99-6962945a190a",
   "metadata": {},
   "outputs": [
    {
     "name": "stdout",
     "output_type": "stream",
     "text": [
      "79.16666666666667\n",
      "86.0\n",
      "88\n"
     ]
    }
   ],
   "source": [
    "#7. Calculate Measures of Central Tendency - with Statistic Module\n",
    "\n",
    "import statistics as stats\n",
    "\n",
    "values = [47, 95, 88, 73, 88, 84]\n",
    "\n",
    "print(stats.mean(values))\n",
    "\n",
    "print(stats.median(values))\n",
    "\n",
    "print(stats.mode(values))"
   ]
  },
  {
   "cell_type": "code",
   "execution_count": 5,
   "id": "fd34e321-25aa-4512-8783-994c7e3ba510",
   "metadata": {},
   "outputs": [
    {
     "name": "stdout",
     "output_type": "stream",
     "text": [
      "11\n",
      "121\n",
      "11\n",
      "11\n",
      "1\n"
     ]
    }
   ],
   "source": [
    "#8. Custom Central Tendency\n",
    "\n",
    "import statistics as stats\n",
    "\n",
    "values = [1, 3, 5, 7, 9, 11, 13, 15, 17, 19, 21]\n",
    "\n",
    "print(len(values))\n",
    "\n",
    "print(sum(values))\n",
    "\n",
    "print(stats.mean(values))\n",
    "\n",
    "print(stats.median(values))\n",
    "\n",
    "print(stats.mode(values))"
   ]
  },
  {
   "cell_type": "markdown",
   "id": "2ba7deee-36a4-4777-9c98-1a7464b2659c",
   "metadata": {},
   "source": [
    "Gavin A"
   ]
  }
 ],
 "metadata": {
  "kernelspec": {
   "display_name": "Python 3 (ipykernel)",
   "language": "python",
   "name": "python3"
  },
  "language_info": {
   "codemirror_mode": {
    "name": "ipython",
    "version": 3
   },
   "file_extension": ".py",
   "mimetype": "text/x-python",
   "name": "python",
   "nbconvert_exporter": "python",
   "pygments_lexer": "ipython3",
   "version": "3.9.12"
  }
 },
 "nbformat": 4,
 "nbformat_minor": 5
}
